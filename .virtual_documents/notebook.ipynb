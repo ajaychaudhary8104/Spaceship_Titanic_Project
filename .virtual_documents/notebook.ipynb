import numpy as np
import pandas as pd
import matplotlib.pyplot as plt
import seaborn as sb

from sklearn.model_selection import train_test_split
from sklearn.preprocessing import LabelEncoder, StandardScaler
from sklearn import metrics
from sklearn.svm import SVC
from xgboost import XGBClassifier
from sklearn.linear_model import LogisticRegression
from sklearn.ensemble import RandomForestClassifier

import warnings
warnings.filterwarnings('ignore')


df = pd.read_csv('spaceship_titanic.csv')
df.head()


df.shape


df.info()


df.isnull().sum()


df.describe()


df.isnull().sum().plot.bar()
plt.show()


col = df.loc[:,'RoomService':'VRDeck'].columns
df.groupby('VIP')[col].mean()


df.groupby('CryoSleep')[col].mean()


temp = df['CryoSleep'] == True
df.loc[temp, col] = 0.0


for c in col:
    for val in [True, False]:
        temp = df['VIP'] == val
        # Calculate mean only for numeric columns
        k = df.loc[temp, c].astype(float).mean()  # Convert to float to ensure numeric calculation
        df.loc[temp, c] = df.loc[temp, c].fillna(k)


sb.countplot(data=df, x='VIP', hue='HomePlanet')
plt.show()


col = 'HomePlanet'
temp = df['VIP'] == False
df.loc[temp, col] = df.loc[temp, col].fillna('Earth')

temp = df['VIP'] == True
df.loc[temp, col] = df.loc[temp, col].fillna('Europa')


sb.boxplot(df['Age'],orient='h')
plt.show()


temp = df[df['Age'] < 61]['Age'].mean()
df['Age'] = df['Age'].fillna(temp)


sb.countplot(data=df, x='Transported', hue='CryoSleep')
plt.show()


df.isnull().sum().plot.bar()
plt.show()


for col in df.columns:
    if df[col].isnull().sum() == 0:
        continue
        
    # If the data type is categorical filling by mode.
    if df[col].dtype == object or df[col].dtype == bool:
        df[col] = df[col].fillna(df[col].mode()[0])
        
    # Else by mean
    else:
        df[col] = df[col].fillna(df[col].mean())

df.isnull().sum().sum()


df.head()


new = df["PassengerId"].str.split("_", n=1, expand=True)
new


new = df["PassengerId"].str.split("_", n=1, expand=True)
df["RoomNo"] = new[0].astype(int)
df["PassengerNo"] = new[1].astype(int)

df.drop(['PassengerId', 'Name'], axis=1, inplace=True)


data = df['RoomNo']
for i in range(df.shape[0]):
      temp = data == data[i]
      df['PassengerNo'][i] = (temp).sum()   


df.head()


df.drop(['RoomNo'], axis=1, inplace=True)

sb.countplot(data=df, x = 'PassengerNo', hue='VIP')
plt.show()


df["Cabin"][0]


new = df["Cabin"].str.split("/", n=2, expand=True)
data["F1"] = new[0]
df["F2"] = new[1].astype(int)
df["F3"] = new[2]

df.drop(['Cabin'], axis=1, inplace=True)


df['LeasureBill'] = df['RoomService'] + df['FoodCourt']+ df['ShoppingMall'] + df['Spa'] + df['VRDeck']


x = df['Transported'].value_counts()
plt.pie(x.values, labels=x.index, autopct='%1.1f%%')
plt.show()


df.groupby('VIP').mean(numeric_only=True)['LeasureBill'].plot.bar() # Add numeric_only=True to handle potential non-numeric columns
plt.show()


for col in df.columns:
    if df[col].dtype == object:
        le = LabelEncoder()
        df[col] = le.fit_transform(df[col])
    if df[col].dtype == 'bool':
        df[col] = df[col].astype(int)

df.head()


plt.figure(figsize=(10,10))
sb.heatmap(df.corr()>0.8,annot=True,cbar=False)
plt.show()


features = df.drop(['Transported'], axis=1)
target = df.Transported

X_train, X_val,Y_train, Y_val = train_test_split(features, target, test_size=0.1, random_state=22)

X_train.shape, X_val.shape


scaler = StandardScaler()
X_train = scaler.fit_transform(X_train)
X_val = scaler.transform(X_val)


from sklearn.metrics import roc_auc_score as ras
models = [LogisticRegression(), XGBClassifier(), SVC(kernel='rbf', probability=True), RandomForestClassifier(random_state=42)]

for i in range(len(models)):
    models[i].fit(X_train, Y_train)

    print(f'{models[i]} : ')

    train_preds = models[i].predict_proba(X_train)[:, 1]
    print('Training Accuracy : ', ras(Y_train, train_preds))

    val_preds = models[i].predict_proba(X_val)[:, 1]
    print('Validation Accuracy : ', ras(Y_val, val_preds))
    print()


for i in range(len(models)):
    print(f'{models[i]} : ')
    y_pred = models[i].predict(X_val)
    cm = metrics.confusion_matrix(Y_val, y_pred)
    disp = metrics.ConfusionMatrixDisplay(confusion_matrix=cm)
    disp.plot()
    plt.show()
print()


for i in range(len(models)):
    print(f'{models[i]} : ')
    print(metrics.classification_report(Y_val, models[i].predict(X_val)))
print()



