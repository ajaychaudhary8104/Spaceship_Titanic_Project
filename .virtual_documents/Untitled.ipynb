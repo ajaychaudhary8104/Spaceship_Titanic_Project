import numpy as np
import pandas as pd
import matplotlib.pyplot as plt
import seaborn as sb

from sklearn.model_selection import train_test_split
from sklearn.preprocessing import LabelEncoder, StandardScaler
from sklearn import metrics
from sklearn.svm import SVC
from xgboost import XGBClassifier
from sklearn.linear_model import LogisticRegression
from sklearn.ensemble import RandomForestClassifier

import warnings
warnings.filterwarnings('ignore')


df = pd.read_csv('spaceship_titanic.csv')
df.head()


df.shape


df.info()


df.isnull().sum()


df.describe()


df.isnull().sum().plot.bar()
plt.show()


col = df.loc[:,'RoomService':'VRDeck'].columns
df.groupby('VIP')[col].mean()


df.groupby('CryoSleep')[col].mean()


temp = df['CryoSleep'] == True
df.loc[temp, col] = 0.0


for c in col:
    for val in [True, False]:
        temp = df['VIP'] == val
        # Calculate mean only for numeric columns
        k = df.loc[temp, c].astype(float).mean()  # Convert to float to ensure numeric calculation
        df.loc[temp, c] = df.loc[temp, c].fillna(k)


sb.countplot(data=df, x='VIP', hue='HomePlanet')
plt.show()


col = 'HomePlanet'
temp = df['VIP'] == False
df.loc[temp, col] = df.loc[temp, col].fillna('Earth')

temp = df['VIP'] == True
df.loc[temp, col] = df.loc[temp, col].fillna('Europa')


sb.boxplot(df['Age'],orient='h')
plt.show()


temp = df[df['Age'] < 61]['Age'].mean()
df['Age'] = df['Age'].fillna(temp)


sb.countplot(data=df, x='Transported', hue='CryoSleep')
plt.show()


df.isnull().sum().plot.bar()
plt.show()


for col in df.columns:
    if df[col].isnull().sum() == 0:
        continue
        
    # If the data type is categorical filling by mode.
    if df[col].dtype == object or df[col].dtype == bool:
        df[col] = df[col].fillna(df[col].mode()[0])
        
    # Else by mean
    else:
        df[col] = df[col].fillna(df[col].mean())

df.isnull().sum().sum()


df.head()


new = df["PassengerId"].str.split("_", n=1, expand=True)
new


new = df["PassengerId"].str.split("_", n=1, expand=True)
df["RoomNo"] = new[0].astype(int)
df["PassengerNo"] = new[1].astype(int)

df.drop(['PassengerId', 'Name'], axis=1, inplace=True)



